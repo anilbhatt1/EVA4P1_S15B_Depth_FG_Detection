{
  "nbformat": 4,
  "nbformat_minor": 0,
  "metadata": {
    "colab": {
      "name": "EVA4P1_S15_Comb_FG_Depth_Prediction_LossFn Modified for Normalization.ipynb",
      "provenance": [],
      "collapsed_sections": [],
      "authorship_tag": "ABX9TyODxtVJBuJ9zdjHXlxzwWJ2",
      "include_colab_link": true
    },
    "kernelspec": {
      "name": "python3",
      "display_name": "Python 3"
    },
    "accelerator": "GPU"
  },
  "cells": [
    {
      "cell_type": "markdown",
      "metadata": {
        "id": "view-in-github",
        "colab_type": "text"
      },
      "source": [
        "<a href=\"https://colab.research.google.com/github/anilbhatt1/EVA4P1_S15B_Depth_FG_Detection/blob/master/EVA4P1_S15_Comb_FG_Depth_Prediction_LossFn_Modified_for_Normalization.ipynb\" target=\"_parent\"><img src=\"https://colab.research.google.com/assets/colab-badge.svg\" alt=\"Open In Colab\"/></a>"
      ]
    },
    {
      "cell_type": "code",
      "metadata": {
        "id": "gZ9sM8csWAaQ",
        "colab_type": "code",
        "outputId": "2ac2b1fa-92b7-477e-ef6a-663afbf0e71c",
        "colab": {
          "base_uri": "https://localhost:8080/",
          "height": 312
        }
      },
      "source": [
        "! nvidia-smi"
      ],
      "execution_count": 0,
      "outputs": [
        {
          "output_type": "stream",
          "text": [
            "Fri Jun  5 13:53:56 2020       \n",
            "+-----------------------------------------------------------------------------+\n",
            "| NVIDIA-SMI 440.82       Driver Version: 418.67       CUDA Version: 10.1     |\n",
            "|-------------------------------+----------------------+----------------------+\n",
            "| GPU  Name        Persistence-M| Bus-Id        Disp.A | Volatile Uncorr. ECC |\n",
            "| Fan  Temp  Perf  Pwr:Usage/Cap|         Memory-Usage | GPU-Util  Compute M. |\n",
            "|===============================+======================+======================|\n",
            "|   0  Tesla P100-PCIE...  Off  | 00000000:00:04.0 Off |                    0 |\n",
            "| N/A   47C    P0    29W / 250W |      0MiB / 16280MiB |      0%      Default |\n",
            "+-------------------------------+----------------------+----------------------+\n",
            "                                                                               \n",
            "+-----------------------------------------------------------------------------+\n",
            "| Processes:                                                       GPU Memory |\n",
            "|  GPU       PID   Type   Process name                             Usage      |\n",
            "|=============================================================================|\n",
            "|  No running processes found                                                 |\n",
            "+-----------------------------------------------------------------------------+\n"
          ],
          "name": "stdout"
        }
      ]
    },
    {
      "cell_type": "code",
      "metadata": {
        "id": "GkJil2APWK1n",
        "colab_type": "code",
        "outputId": "dfb673f0-1c34-4032-9639-c55c1ac41a8a",
        "colab": {
          "base_uri": "https://localhost:8080/",
          "height": 55
        }
      },
      "source": [
        "from google.colab import drive\n",
        "drive.mount('/content/gdrive')"
      ],
      "execution_count": 0,
      "outputs": [
        {
          "output_type": "stream",
          "text": [
            "Drive already mounted at /content/gdrive; to attempt to forcibly remount, call drive.mount(\"/content/gdrive\", force_remount=True).\n"
          ],
          "name": "stdout"
        }
      ]
    },
    {
      "cell_type": "code",
      "metadata": {
        "id": "9ftTiFRiWRMc",
        "colab_type": "code",
        "outputId": "47bb40b5-0cb2-42d6-ec78-e0e3eabbb1f9",
        "colab": {
          "base_uri": "https://localhost:8080/",
          "height": 124
        }
      },
      "source": [
        "import warnings\n",
        "warnings.filterwarnings('ignore')\n",
        "import zipfile\n",
        "from zipfile import ZipFile\n",
        "from pathlib import Path\n",
        "from time import time\n",
        "from datetime import datetime \n",
        "from __future__ import print_function\n",
        "import torch\n",
        "import torchvision\n",
        "from torchvision import transforms\n",
        "from torch.utils.data import DataLoader, Dataset\n",
        "import torch.nn as nn\n",
        "import torch.nn.functional as F\n",
        "import torch.optim as optim\n",
        "import numpy as np\n",
        "from tqdm import tqdm\n",
        "from PIL import Image\n",
        "from tqdm import tqdm_notebook\n",
        "import matplotlib.pyplot as plt\n",
        "import cv2\n",
        "import pkgutil\n",
        "import importlib\n",
        "import os\n",
        "%matplotlib inline\n",
        "%config IPCompleter.greedy=True\n",
        "%reload_ext autoreload\n",
        "import seaborn as sns\n",
        "import io\n",
        "import skimage\n",
        "from skimage.transform import resize\n",
        "from itertools import groupby\n",
        "from tqdm.auto import tqdm\n",
        "import gc\n",
        "sns.set()\n",
        "\n",
        "#import albumentations\n",
        "#print(albumentations.__version__) # check version\n",
        "\n",
        "# This is to install and use albumentations latest package v0.4.5\n",
        "#album_version_needed = \"0.4.5\"\n",
        "#if albumentations.__version__ != album_version_needed:\n",
        "#  !pip install albumentations==0.4.5   # 0.4.5 is the latest albumentation version\n",
        "print('Pytorch version:', torch.__version__)\n",
        "\n",
        "!pip install kornia\n",
        "from kornia.losses import SSIM\n",
        "from kornia.losses import DiceLoss"
      ],
      "execution_count": 0,
      "outputs": [
        {
          "output_type": "stream",
          "text": [
            "Pytorch version: 1.5.0+cu101\n",
            "Requirement already satisfied: kornia in /usr/local/lib/python3.6/dist-packages (0.3.1)\n",
            "Requirement already satisfied: numpy in /usr/local/lib/python3.6/dist-packages (from kornia) (1.18.4)\n",
            "Requirement already satisfied: torch==1.5.0 in /usr/local/lib/python3.6/dist-packages (from kornia) (1.5.0+cu101)\n",
            "Requirement already satisfied: future in /usr/local/lib/python3.6/dist-packages (from torch==1.5.0->kornia) (0.16.0)\n"
          ],
          "name": "stdout"
        }
      ]
    },
    {
      "cell_type": "markdown",
      "metadata": {
        "id": "ryw6xJHabr6P",
        "colab_type": "text"
      },
      "source": [
        "### Unzip FG_BG, Mask, Depth and corresponding BG images from gdrive"
      ]
    },
    {
      "cell_type": "code",
      "metadata": {
        "id": "CSdM6C_yWVn0",
        "colab_type": "code",
        "outputId": "02c6d3da-1a96-43a0-a018-da9ab58f3b43",
        "colab": {
          "base_uri": "https://localhost:8080/",
          "height": 35
        }
      },
      "source": [
        "t1 = time()\n",
        "!unzip -q \"/content/gdrive/My Drive/EVA4P1_S15/FG_BG_Mask_Depth/FG_BG_400K.zip\"\n",
        "!unzip -q \"/content/gdrive/My Drive/EVA4P1_S15/FG_BG_Mask_Depth/FG_BG_Mask_400K.zip\"\n",
        "!unzip -q \"/content/gdrive/My Drive/EVA4P1_S15/FG_BG_Mask_Depth/FG_BG_Depth_400K.zip\"\n",
        "!unzip -q \"/content/gdrive/My Drive/EVA4P1_S15/FG_BG_Mask_Depth/BG_and_Its_Flip.zip\"\n",
        "t2 = time()\n",
        "print(f'FG_BG, Mask & Depth Copy took {(t2-t1)/60:.5f} minutes')"
      ],
      "execution_count": 0,
      "outputs": [
        {
          "output_type": "stream",
          "text": [
            "FG_BG, Mask & Depth Copy took 5.64660 minutes\n"
          ],
          "name": "stdout"
        }
      ]
    },
    {
      "cell_type": "markdown",
      "metadata": {
        "id": "GpxgXh-Pb3io",
        "colab_type": "text"
      },
      "source": [
        "### Copying Log file that contains FG_BG file names, their path in gdrive & corresponding BG file name from which they were made "
      ]
    },
    {
      "cell_type": "code",
      "metadata": {
        "id": "oIJN4rz4WWWV",
        "colab_type": "code",
        "outputId": "8b98e98d-2049-4b40-8cdd-c906a00d28cc",
        "colab": {
          "base_uri": "https://localhost:8080/",
          "height": 35
        }
      },
      "source": [
        "if os.path.exists('/content/FG_BG_Filename_withflip_Logs.txt'):\n",
        "    print('Log file exists')    \n",
        "else:  \n",
        "    !cp '/content/gdrive/My Drive/EVA4P1_S15/FG_BG_Mask_Depth/FG_BG_Filename_withflip_Logs.txt' '/content/'\n",
        "    print('Copied Log File')"
      ],
      "execution_count": 0,
      "outputs": [
        {
          "output_type": "stream",
          "text": [
            "Copied Log File\n"
          ],
          "name": "stdout"
        }
      ]
    },
    {
      "cell_type": "markdown",
      "metadata": {
        "id": "-ldmOB9fb17X",
        "colab_type": "text"
      },
      "source": [
        "### Copying SRC libraries from Github to Colab."
      ]
    },
    {
      "cell_type": "code",
      "metadata": {
        "id": "365ZadqFWZ-c",
        "colab_type": "code",
        "outputId": "41bd02cb-545c-4af6-9a85-6a5713a3bc59",
        "colab": {
          "base_uri": "https://localhost:8080/",
          "height": 139
        }
      },
      "source": [
        "# Copying the code from github to colab\n",
        "os.chdir('/content/')\n",
        "!git clone https://github.com/anilbhatt1/EVA4P1_S15B_Depth_FG_Detection"
      ],
      "execution_count": 0,
      "outputs": [
        {
          "output_type": "stream",
          "text": [
            "Cloning into 'EVA4P1_S15B_Depth_FG_Detection'...\n",
            "remote: Enumerating objects: 48, done.\u001b[K\n",
            "remote: Counting objects: 100% (48/48), done.\u001b[K\n",
            "remote: Compressing objects: 100% (48/48), done.\u001b[K\n",
            "remote: Total 489 (delta 33), reused 0 (delta 0), pack-reused 441\u001b[K\n",
            "Receiving objects: 100% (489/489), 14.91 MiB | 7.38 MiB/s, done.\n",
            "Resolving deltas: 100% (250/250), done.\n"
          ],
          "name": "stdout"
        }
      ]
    },
    {
      "cell_type": "code",
      "metadata": {
        "id": "a2YKMJZ7WcCW",
        "colab_type": "code",
        "outputId": "1d6055a1-0efb-404d-c732-69641bf2ea33",
        "colab": {
          "base_uri": "https://localhost:8080/",
          "height": 69
        }
      },
      "source": [
        "%cd '/content/EVA4P1_S15B_Depth_FG_Detection/src/losses'\n",
        "! ls"
      ],
      "execution_count": 0,
      "outputs": [
        {
          "output_type": "stream",
          "text": [
            "/content/EVA4P1_S15B_Depth_FG_Detection/src/losses\n",
            "Test1.py  Test3.py  Train1.py  Train3.py\n",
            "Test2.py  Test.py   Train2.py  Train.py\n"
          ],
          "name": "stdout"
        }
      ]
    },
    {
      "cell_type": "markdown",
      "metadata": {
        "id": "0xhECrP-cPBP",
        "colab_type": "text"
      },
      "source": [
        "### Importing modules from Colab data folder to Colab session "
      ]
    },
    {
      "cell_type": "code",
      "metadata": {
        "id": "dBOiObzIWeNN",
        "colab_type": "code",
        "colab": {}
      },
      "source": [
        "os.chdir('/content/EVA4P1_S15B_Depth_FG_Detection/')\n",
        "import src\n",
        "from src.dataset import datatransforms as dtf\n",
        "from src.dataset import makedata as md\n",
        "from src.dataset import make1data as md1\n",
        "from src.dataset import Alb_data_transforms as Alb\n",
        "from src.models  import S15_FGDepth_models as ntwk\n",
        "from src.losses  import Train as Train\n",
        "from src.losses  import Test  as Test\n",
        "from src.losses  import Train1 as Train1\n",
        "from src.losses  import Test1  as Test1\n",
        "from src.losses  import Train2 as Train2\n",
        "from src.losses  import Test2  as Test2\n",
        "from src.losses  import Train3 as Train3\n",
        "from src.losses  import Test3  as Test3\n",
        "from src.utils   import Freeze_Layers as Freeze"
      ],
      "execution_count": 0,
      "outputs": []
    },
    {
      "cell_type": "markdown",
      "metadata": {
        "id": "47tdnjOucXK2",
        "colab_type": "text"
      },
      "source": [
        "### Creating a list - content_list for FG_BG log file. This content_list will be used to create dataloader to pick-up input images randomly for both training and testing"
      ]
    },
    {
      "cell_type": "code",
      "metadata": {
        "id": "8ShOH6sMWgJT",
        "colab_type": "code",
        "outputId": "aa0a9758-f5bb-401a-8cdd-6a88613f2f24",
        "colab": {
          "base_uri": "https://localhost:8080/",
          "height": 69
        }
      },
      "source": [
        "log_fg_bg = open('/content/FG_BG_Filename_withflip_Logs.txt',\"r\")\n",
        "content_list = log_fg_bg.readlines()\n",
        "print('No: of records in log_fg_bg:',len(content_list))\n",
        "print(content_list[0])\n",
        "log_fg_bg.close()\n",
        "\n",
        "data_root = Path('/content')\n",
        "f1, f2, f3, f4 = data_root/'FG_BG_400K', data_root/'BG_and_Its_Flip', data_root/'FG_BG_Mask_400K',  \\\n",
        "                 data_root/'FG_BG_Depth_0_400K'"
      ],
      "execution_count": 0,
      "outputs": [
        {
          "output_type": "stream",
          "text": [
            "No: of records in log_fg_bg: 400000\n",
            "Img_fg_bg_1.jpg,Img21.jpg,Image41.png,(192, 192, 108, 156, 51, 3, 159, 3, 51, 159, 159, 159)\n",
            "\n"
          ],
          "name": "stdout"
        }
      ]
    },
    {
      "cell_type": "code",
      "metadata": {
        "id": "5W7O91zfWiUk",
        "colab_type": "code",
        "colab": {}
      },
      "source": [
        "bs_small  = 96\n",
        "bs_medium = 96\n",
        "bs_large  = 16\n",
        "bs_test   = 96\n",
        "bs_display= 8\n",
        "rows = 5\n",
        "img_save, model_save = 1500, 500\n",
        "t0k, t10k, t20k, t80k, t160k, t220k, t260k, t280k, t360k, t390k, t400k  = 0, 10000,  20000, 80000, 160000, 220000,\\\n",
        "                                                                             260000, 280000, 360000,\\\n",
        "                                                                                     390000, 400000"
      ],
      "execution_count": 0,
      "outputs": []
    },
    {
      "cell_type": "markdown",
      "metadata": {
        "id": "kfNA1teHcklW",
        "colab_type": "text"
      },
      "source": [
        "### Creating tranforms. For test data, GT mask & GT depth only 'To Tensor' & 'Resize' is used."
      ]
    },
    {
      "cell_type": "code",
      "metadata": {
        "id": "rOVqm2bxy1MK",
        "colab_type": "code",
        "colab": {}
      },
      "source": [
        "import albumentations as A\n",
        "lst = [(64,64),(96,96),(192,192)]\n",
        "fg_bg_mean, fg_bg_stdev                    = [0.56670278, 0.49779153, 0.43632878], [0.25049532, 0.2468085, 0.25520498]\n",
        "mask_mean,  mask_stdev                     = [0.20249742], [0.39961225]\n",
        "depth_mean, depth_stdev                    = [0.32939295], [0.24930712]\n",
        "bg_mean, bg_stdev                          = [0.58245822, 0.51269352, 0.43691653], [0.24252189, 0.24318804, 0.25401604]\n",
        "#fg_bg_mean, fg_bg_stdev                    = [144.5, 126.9, 111.26], [63.88, 62.94, 65.08]\n",
        "#mask_mean,  mask_stdev                     = [51.6], [101.9]\n",
        "#depth_mean, depth_stdev                    = [83.995], [63.57]\n",
        "#bg_mean, bg_stdev                          = [148.53, 130.74, 111.41], [61.84, 62.01, 64.77]\n",
        "fg_bg_transforms, bg_transforms, mask_transforms, depth_transforms = {}, {}, {}, {}\n",
        "test_fg_bg_transforms, test_bg_transforms                          = {}, {}\n",
        "for i in range(len(lst)):\n",
        "    ht, wd = lst[i]\n",
        "    cut_out_size = int(ht/4)\n",
        "    fg_bg_transforms[\"t_{0}\".format(i)] = Alb.Albumentations_transform([A.Resize(ht,wd,always_apply=True,p=1),\n",
        "                                                                     A.IAAAdditiveGaussianNoise(),\n",
        "                                                                     A.RGBShift(r_shift_limit=50, g_shift_limit=50, b_shift_limit=50, p=0.5),\n",
        "                                                                     A.Normalize(mean=fg_bg_mean, std=fg_bg_stdev),\n",
        "                                                                     A.Cutout(num_holes=1,max_h_size=cut_out_size,max_w_size=cut_out_size),])\n",
        "    bg_transforms[\"t_{0}\".format(i)]    = Alb.Albumentations_transform([A.Resize(ht,wd,always_apply=True,p=1),\n",
        "                                                                     A.IAAAdditiveGaussianNoise(),\n",
        "                                                                     A.RGBShift(r_shift_limit=50, g_shift_limit=50, b_shift_limit=50, p=0.5),\n",
        "                                                                     A.Normalize(mean=bg_mean, std=bg_stdev),])\n",
        "    mask_transforms[\"t_{0}\".format(i)]  = Alb.Albumentations_transform([A.Resize(ht,wd,always_apply=True,p=1),\n",
        "                                                                     A.Normalize(mean=mask_mean, std=mask_stdev),])\n",
        "    depth_transforms[\"t_{0}\".format(i)] = Alb.Albumentations_transform([A.Resize(ht,wd,always_apply=True,p=1),\n",
        "                                                                     A.Normalize(mean=depth_mean, std=depth_stdev),])\n",
        "    test_fg_bg_transforms[\"t_{0}\" .format(i)]  = Alb.Albumentations_transform([A.Resize(ht,wd,always_apply=True,p=1),\n",
        "                                                                              A.Normalize(mean=fg_bg_mean, std=fg_bg_stdev),])\n",
        "    test_bg_transforms[\"t_{0}\" .format(i)]        = Alb.Albumentations_transform([A.Resize(ht,wd,always_apply=True,p=1),\n",
        "                                                                              A.Normalize(mean=bg_mean, std=bg_stdev),])"
      ],
      "execution_count": 0,
      "outputs": []
    },
    {
      "cell_type": "code",
      "metadata": {
        "id": "IyPn7v5wCnKD",
        "colab_type": "code",
        "outputId": "4ebf6cab-f7a6-4330-d530-81fa054e55f5",
        "colab": {
          "base_uri": "https://localhost:8080/",
          "height": 141
        }
      },
      "source": [
        "print(fg_bg_transforms)\n",
        "print(bg_transforms)\n",
        "print(mask_transforms)\n",
        "print(depth_transforms)\n",
        "print(test_fg_bg_transforms)\n",
        "print(test_bg_transforms)"
      ],
      "execution_count": 0,
      "outputs": [
        {
          "output_type": "stream",
          "text": [
            "{'t_0': <src.dataset.Alb_data_transforms.Albumentations_transform object at 0x7f21555ccba8>, 't_1': <src.dataset.Alb_data_transforms.Albumentations_transform object at 0x7f21555bb4e0>, 't_2': <src.dataset.Alb_data_transforms.Albumentations_transform object at 0x7f21555bbdd8>}\n",
            "{'t_0': <src.dataset.Alb_data_transforms.Albumentations_transform object at 0x7f21555ccd68>, 't_1': <src.dataset.Alb_data_transforms.Albumentations_transform object at 0x7f21555bb6a0>, 't_2': <src.dataset.Alb_data_transforms.Albumentations_transform object at 0x7f21555bbf98>}\n",
            "{'t_0': <src.dataset.Alb_data_transforms.Albumentations_transform object at 0x7f21555cceb8>, 't_1': <src.dataset.Alb_data_transforms.Albumentations_transform object at 0x7f21555bb7f0>, 't_2': <src.dataset.Alb_data_transforms.Albumentations_transform object at 0x7f21555ad128>}\n",
            "{'t_0': <src.dataset.Alb_data_transforms.Albumentations_transform object at 0x7f21555bb048>, 't_1': <src.dataset.Alb_data_transforms.Albumentations_transform object at 0x7f21555bb940>, 't_2': <src.dataset.Alb_data_transforms.Albumentations_transform object at 0x7f21555ad278>}\n",
            "{'t_0': <src.dataset.Alb_data_transforms.Albumentations_transform object at 0x7f21555bb198>, 't_1': <src.dataset.Alb_data_transforms.Albumentations_transform object at 0x7f21555bba90>, 't_2': <src.dataset.Alb_data_transforms.Albumentations_transform object at 0x7f21555ad3c8>}\n",
            "{'t_0': <src.dataset.Alb_data_transforms.Albumentations_transform object at 0x7f21555bb2e8>, 't_1': <src.dataset.Alb_data_transforms.Albumentations_transform object at 0x7f21555bbbe0>, 't_2': <src.dataset.Alb_data_transforms.Albumentations_transform object at 0x7f21555ad518>}\n"
          ],
          "name": "stdout"
        }
      ]
    },
    {
      "cell_type": "markdown",
      "metadata": {
        "id": "mdfVmZfWdT-O",
        "colab_type": "text"
      },
      "source": [
        "### Creating dataloader using content_list. Since total 280K images are present in training set, 5 cohorts are created to manage the training volume.\n",
        "- 0 - 80k    -> size 64x64    \n",
        "- 80k - 160k -> size 64x64    \n",
        "- 160k -220k -> size 64x64    \n",
        "- 220k -260k -> size 96x96    \n",
        "- 260k -280k -> size 192x192  \n",
        "- 280k -400k -> size 64x64 -> Test dataset"
      ]
    },
    {
      "cell_type": "code",
      "metadata": {
        "id": "NMDOfnAr_f5-",
        "colab_type": "code",
        "colab": {}
      },
      "source": [
        "train_ds_mini_1    = md1.Make1data(f1, content_list, t0k, t80k,  \n",
        "                             fg_bg_transforms['t_0'],bg_transforms['t_0'],mask_transforms['t_0'],depth_transforms['t_0'])\n",
        "train_ds_mini_2    = md1.Make1data(f1, content_list, t80k, t160k,  \n",
        "                             fg_bg_transforms['t_0'],bg_transforms['t_0'],mask_transforms['t_0'],depth_transforms['t_0'])\n",
        "train_ds_mini_3    = md1.Make1data(f1, content_list, t160k, t220k,  \n",
        "                             fg_bg_transforms['t_0'],bg_transforms['t_0'],mask_transforms['t_0'],depth_transforms['t_0'])\n",
        "train_ds_medium    = md1.Make1data(f1, content_list, t220k, t260k,  \n",
        "                             fg_bg_transforms['t_1'],bg_transforms['t_1'],mask_transforms['t_1'],depth_transforms['t_1'])\n",
        "train_ds_large   = md1.Make1data(f1, content_list, t260k, t280k,  \n",
        "                             fg_bg_transforms['t_2'],bg_transforms['t_2'],mask_transforms['t_2'],depth_transforms['t_2'])\n",
        "test_ds          = md1.Make1data(f1, content_list, t280k, t400k,  \n",
        "                             test_fg_bg_transforms['t_0'],test_bg_transforms['t_0'],mask_transforms['t_0'],depth_transforms['t_0'])"
      ],
      "execution_count": 0,
      "outputs": []
    },
    {
      "cell_type": "code",
      "metadata": {
        "id": "B0cZRNZVFrO-",
        "colab_type": "code",
        "colab": {}
      },
      "source": [
        "train_dl_mini_1  = DataLoader(train_ds_mini_1, batch_size = bs_small,shuffle = True, pin_memory = True)\n",
        "train_dl_mini_2  = DataLoader(train_ds_mini_2, batch_size = bs_small,shuffle = True, pin_memory = True)\n",
        "train_dl_mini_3  = DataLoader(train_ds_mini_3, batch_size = bs_small,  shuffle = True, pin_memory = True)\n",
        "train_dl_medium  = DataLoader(train_ds_medium, batch_size = bs_medium, shuffle = True, pin_memory = True)\n",
        "train_dl_large   = DataLoader(train_ds_large,  batch_size = bs_large, shuffle = True, pin_memory = True)\n",
        "test_dl          = DataLoader(test_ds,         batch_size = bs_test,  shuffle = True, pin_memory = True)"
      ],
      "execution_count": 0,
      "outputs": []
    },
    {
      "cell_type": "code",
      "metadata": {
        "id": "GwEG4q15CpW7",
        "colab_type": "code",
        "colab": {}
      },
      "source": [
        "test_ds_display = md1.Make1data(f1, content_list, t360k, t400k,  \n",
        "                  test_fg_bg_transforms['t_0'],test_bg_transforms['t_0'],mask_transforms['t_0'],depth_transforms['t_0'])\n",
        "test_dl_display = DataLoader(test_ds_display, batch_size = bs_display,  shuffle = True, pin_memory = True)"
      ],
      "execution_count": 0,
      "outputs": []
    },
    {
      "cell_type": "markdown",
      "metadata": {
        "id": "Nzb6rpkIeG_B",
        "colab_type": "text"
      },
      "source": [
        "### To check if batch & sizes are coming correctly & whether dataloader and transforms are working as expected"
      ]
    },
    {
      "cell_type": "code",
      "metadata": {
        "id": "lSXrGV2aHHYw",
        "colab_type": "code",
        "colab": {}
      },
      "source": [
        "images_mini_1 = next(iter(train_dl_mini_1))\n",
        "images_mini_2 = next(iter(train_dl_mini_2))\n",
        "images_mini_3 = next(iter(train_dl_mini_3))\n",
        "images_medium = next(iter(train_dl_medium))\n",
        "images_large  = next(iter(train_dl_large))\n",
        "images_test   = next(iter(test_dl))"
      ],
      "execution_count": 0,
      "outputs": []
    },
    {
      "cell_type": "code",
      "metadata": {
        "id": "LtFLGucvJHFA",
        "colab_type": "code",
        "outputId": "ff9d4fd9-897f-4d7c-d4c5-65063f4e5a95",
        "colab": {
          "base_uri": "https://localhost:8080/",
          "height": 141
        }
      },
      "source": [
        "print('B1:',[(k, v.shape) for k, v in images_mini_1.items()])\n",
        "print('B2:',[(k, v.shape) for k, v in images_mini_2.items()])\n",
        "print('B3:',[(k, v.shape) for k, v in images_mini_3.items()])\n",
        "print('B4:',[(k, v.shape) for k, v in images_medium.items()])\n",
        "print('B5:',[(k, v.shape) for k, v in images_large.items()])\n",
        "print('B6:',[(k, v.shape) for k, v in images_test.items()])"
      ],
      "execution_count": 0,
      "outputs": [
        {
          "output_type": "stream",
          "text": [
            "B1: [('f1', torch.Size([96, 3, 64, 64])), ('f2', torch.Size([96, 3, 64, 64])), ('f3', torch.Size([96, 1, 64, 64])), ('f4', torch.Size([96, 1, 64, 64]))]\n",
            "B2: [('f1', torch.Size([96, 3, 64, 64])), ('f2', torch.Size([96, 3, 64, 64])), ('f3', torch.Size([96, 1, 64, 64])), ('f4', torch.Size([96, 1, 64, 64]))]\n",
            "B3: [('f1', torch.Size([96, 3, 64, 64])), ('f2', torch.Size([96, 3, 64, 64])), ('f3', torch.Size([96, 1, 64, 64])), ('f4', torch.Size([96, 1, 64, 64]))]\n",
            "B4: [('f1', torch.Size([96, 3, 96, 96])), ('f2', torch.Size([96, 3, 96, 96])), ('f3', torch.Size([96, 1, 96, 96])), ('f4', torch.Size([96, 1, 96, 96]))]\n",
            "B5: [('f1', torch.Size([16, 3, 192, 192])), ('f2', torch.Size([16, 3, 192, 192])), ('f3', torch.Size([16, 1, 192, 192])), ('f4', torch.Size([16, 1, 192, 192]))]\n",
            "B6: [('f1', torch.Size([96, 3, 64, 64])), ('f2', torch.Size([96, 3, 64, 64])), ('f3', torch.Size([96, 1, 64, 64])), ('f4', torch.Size([96, 1, 64, 64]))]\n"
          ],
          "name": "stdout"
        }
      ]
    },
    {
      "cell_type": "markdown",
      "metadata": {
        "id": "uClLYQlieL4J",
        "colab_type": "text"
      },
      "source": [
        "### To display images created out of dataloader & transform to ensure images are coming out for display correctly"
      ]
    },
    {
      "cell_type": "code",
      "metadata": {
        "id": "LhIlGRCwVUbp",
        "colab_type": "code",
        "colab": {}
      },
      "source": [
        "imgs = images_mini_1['f4']"
      ],
      "execution_count": 0,
      "outputs": []
    },
    {
      "cell_type": "code",
      "metadata": {
        "id": "sRv6-HnOViYJ",
        "colab_type": "code",
        "colab": {}
      },
      "source": [
        "def show(tensors, mean, stdev, figsize= (10,10), *args, **kwargs):\n",
        "\n",
        "  tensor_mean   = mean\n",
        "  tensor_stdev  = stdev\n",
        "  for i in range(tensors.shape[0]):\n",
        "      if tensors.shape[1] ==3:\n",
        "        for j in range(0,3):  \n",
        "          tensors[i,j] = ((tensors[i,j] * tensor_stdev[j]) + tensor_mean[j])\n",
        "      if tensors.shape[1] ==1:\n",
        "        for j in range(0,1):  \n",
        "          tensors[i,j] = ((tensors[i,j] * tensor_stdev[j]) + tensor_mean[j])\n",
        "\n",
        "  grid_tensor = torchvision.utils.make_grid(tensors, *args, **kwargs)  \n",
        "  grid_image  = grid_tensor.permute(1, 2, 0)\n",
        "  plt.figure(figsize = figsize)\n",
        "  plt.imshow(grid_image)\n",
        "  plt.xticks([])  \n",
        "  plt.yticks([])\n",
        "  plt.show()"
      ],
      "execution_count": 0,
      "outputs": []
    },
    {
      "cell_type": "code",
      "metadata": {
        "id": "wdL1teF-VlNV",
        "colab_type": "code",
        "outputId": "a68ae2cd-437c-46af-a77f-a7ea6ab6275a",
        "colab": {
          "base_uri": "https://localhost:8080/",
          "height": 575
        }
      },
      "source": [
        "show(imgs, depth_mean, depth_stdev, nrow=rows)"
      ],
      "execution_count": 0,
      "outputs": [
        {
          "output_type": "display_data",
          "data": {
            "image/png": "[encoded data removed]",
            "text/plain": [
              "<Figure size 720x720 with 1 Axes>"
            ]
          },
          "metadata": {
            "tags": []
          }
        }
      ]
    },
    {
      "cell_type": "markdown",
      "metadata": {
        "id": "jINiT241dXTs",
        "colab_type": "text"
      },
      "source": [
        "### Initializing the model and assigning it to Cuda"
      ]
    },
    {
      "cell_type": "code",
      "metadata": {
        "id": "k1kkYfEEXCWA",
        "colab_type": "code",
        "outputId": "d731b57c-e4e4-45b0-fd27-cf488ea885ea",
        "colab": {
          "base_uri": "https://localhost:8080/",
          "height": 1000
        }
      },
      "source": [
        "model = ntwk.FGDepth()\n",
        "use_cuda = torch.cuda.is_available()\n",
        "model.device = torch.device(\"cuda\" if use_cuda else \"cpu\")\n",
        "model.to(model.device)"
      ],
      "execution_count": 0,
      "outputs": [
        {
          "output_type": "execute_result",
          "data": {
            "text/plain": [
              "FGDepth(\n",
              "  (convA): Sequential(\n",
              "    (0): Conv2d(6, 32, kernel_size=(3, 3), stride=(1, 1), padding=(1, 1), bias=False)\n",
              "    (1): BatchNorm2d(32, eps=1e-05, momentum=0.1, affine=True, track_running_stats=True)\n",
              "    (2): ReLU()\n",
              "  )\n",
              "  (convB): Sequential(\n",
              "    (0): Conv2d(32, 32, kernel_size=(3, 3), stride=(1, 1), padding=(1, 1), groups=32, bias=False)\n",
              "    (1): Conv2d(32, 64, kernel_size=(1, 1), stride=(1, 1), bias=False)\n",
              "    (2): BatchNorm2d(64, eps=1e-05, momentum=0.1, affine=True, track_running_stats=True)\n",
              "    (3): ReLU()\n",
              "  )\n",
              "  (convC): Sequential(\n",
              "    (0): Conv2d(64, 128, kernel_size=(3, 3), stride=(1, 1), padding=(1, 1), bias=False)\n",
              "    (1): BatchNorm2d(128, eps=1e-05, momentum=0.1, affine=True, track_running_stats=True)\n",
              "    (2): ReLU()\n",
              "  )\n",
              "  (convD): Sequential(\n",
              "    (0): Conv2d(128, 64, kernel_size=(3, 3), stride=(1, 1), padding=(1, 1), bias=False)\n",
              "  )\n",
              "  (convE): Sequential(\n",
              "    (0): Conv2d(64, 1, kernel_size=(3, 3), stride=(1, 1), padding=(1, 1), bias=False)\n",
              "  )\n",
              "  (blck1): DownSize(\n",
              "    (conv1): Conv2d(64, 128, kernel_size=(3, 3), stride=(2, 2), padding=(1, 1), bias=False)\n",
              "    (conv12): Conv2d(128, 128, kernel_size=(1, 1), stride=(1, 1), bias=False)\n",
              "    (bn1): BatchNorm2d(128, eps=1e-05, momentum=0.1, affine=True, track_running_stats=True)\n",
              "    (relu): ReLU()\n",
              "    (conv2): Conv2d(128, 128, kernel_size=(3, 3), stride=(1, 1), padding=(1, 1), bias=False)\n",
              "    (conv22): Conv2d(128, 128, kernel_size=(1, 1), stride=(1, 1), bias=False)\n",
              "    (bn2): BatchNorm2d(128, eps=1e-05, momentum=0.1, affine=True, track_running_stats=True)\n",
              "    (conv1x1down): Conv2d(64, 128, kernel_size=(1, 1), stride=(2, 2), bias=False)\n",
              "  )\n",
              "  (blck2): DownSize(\n",
              "    (conv1): Conv2d(128, 256, kernel_size=(3, 3), stride=(2, 2), padding=(1, 1), bias=False)\n",
              "    (conv12): Conv2d(256, 256, kernel_size=(1, 1), stride=(1, 1), bias=False)\n",
              "    (bn1): BatchNorm2d(256, eps=1e-05, momentum=0.1, affine=True, track_running_stats=True)\n",
              "    (relu): ReLU()\n",
              "    (conv2): Conv2d(256, 256, kernel_size=(3, 3), stride=(1, 1), padding=(1, 1), bias=False)\n",
              "    (conv22): Conv2d(256, 256, kernel_size=(1, 1), stride=(1, 1), bias=False)\n",
              "    (bn2): BatchNorm2d(256, eps=1e-05, momentum=0.1, affine=True, track_running_stats=True)\n",
              "    (conv1x1down): Conv2d(128, 256, kernel_size=(1, 1), stride=(2, 2), bias=False)\n",
              "  )\n",
              "  (blck3): DownSize(\n",
              "    (conv1): Conv2d(256, 256, kernel_size=(3, 3), stride=(2, 2), padding=(1, 1), bias=False)\n",
              "    (conv12): Conv2d(256, 256, kernel_size=(1, 1), stride=(1, 1), bias=False)\n",
              "    (bn1): BatchNorm2d(256, eps=1e-05, momentum=0.1, affine=True, track_running_stats=True)\n",
              "    (relu): ReLU()\n",
              "    (conv2): Conv2d(256, 256, kernel_size=(3, 3), stride=(1, 1), padding=(1, 1), bias=False)\n",
              "    (conv22): Conv2d(256, 256, kernel_size=(1, 1), stride=(1, 1), bias=False)\n",
              "    (bn2): BatchNorm2d(256, eps=1e-05, momentum=0.1, affine=True, track_running_stats=True)\n",
              "    (conv1x1down): Conv2d(256, 256, kernel_size=(1, 1), stride=(2, 2), bias=False)\n",
              "  )\n",
              "  (blck4): DownSize(\n",
              "    (conv1): Conv2d(256, 256, kernel_size=(3, 3), stride=(2, 2), padding=(1, 1), bias=False)\n",
              "    (conv12): Conv2d(256, 256, kernel_size=(1, 1), stride=(1, 1), bias=False)\n",
              "    (bn1): BatchNorm2d(256, eps=1e-05, momentum=0.1, affine=True, track_running_stats=True)\n",
              "    (relu): ReLU()\n",
              "    (conv2): Conv2d(256, 256, kernel_size=(3, 3), stride=(1, 1), padding=(1, 1), bias=False)\n",
              "    (conv22): Conv2d(256, 256, kernel_size=(1, 1), stride=(1, 1), bias=False)\n",
              "    (bn2): BatchNorm2d(256, eps=1e-05, momentum=0.1, affine=True, track_running_stats=True)\n",
              "    (conv1x1down): Conv2d(256, 256, kernel_size=(1, 1), stride=(2, 2), bias=False)\n",
              "  )\n",
              "  (blck5): UpSize(\n",
              "    (conv1): Conv2d(256, 256, kernel_size=(3, 3), stride=(1, 1), padding=(1, 1), bias=False)\n",
              "    (conv12): Conv2d(256, 256, kernel_size=(1, 1), stride=(1, 1), bias=False)\n",
              "    (bn1): BatchNorm2d(256, eps=1e-05, momentum=0.1, affine=True, track_running_stats=True)\n",
              "    (relu): ReLU()\n",
              "    (conv2): Conv2d(256, 256, kernel_size=(3, 3), stride=(1, 1), padding=(1, 1), bias=False)\n",
              "    (conv22): Conv2d(256, 256, kernel_size=(1, 1), stride=(1, 1), bias=False)\n",
              "    (bn2): BatchNorm2d(256, eps=1e-05, momentum=0.1, affine=True, track_running_stats=True)\n",
              "    (conv1x1down): ConvTranspose2d(256, 256, kernel_size=(3, 3), stride=(1, 1), padding=(1, 1), bias=False)\n",
              "  )\n",
              "  (blck6): UpSize(\n",
              "    (conv1): Conv2d(256, 256, kernel_size=(3, 3), stride=(1, 1), padding=(1, 1), bias=False)\n",
              "    (conv12): Conv2d(256, 256, kernel_size=(1, 1), stride=(1, 1), bias=False)\n",
              "    (bn1): BatchNorm2d(256, eps=1e-05, momentum=0.1, affine=True, track_running_stats=True)\n",
              "    (relu): ReLU()\n",
              "    (conv2): Conv2d(256, 256, kernel_size=(3, 3), stride=(1, 1), padding=(1, 1), bias=False)\n",
              "    (conv22): Conv2d(256, 256, kernel_size=(1, 1), stride=(1, 1), bias=False)\n",
              "    (bn2): BatchNorm2d(256, eps=1e-05, momentum=0.1, affine=True, track_running_stats=True)\n",
              "    (conv1x1down): ConvTranspose2d(256, 256, kernel_size=(3, 3), stride=(1, 1), padding=(1, 1), bias=False)\n",
              "  )\n",
              "  (blck7): UpSize(\n",
              "    (conv1): Conv2d(128, 128, kernel_size=(3, 3), stride=(1, 1), padding=(1, 1), bias=False)\n",
              "    (conv12): Conv2d(128, 128, kernel_size=(1, 1), stride=(1, 1), bias=False)\n",
              "    (bn1): BatchNorm2d(128, eps=1e-05, momentum=0.1, affine=True, track_running_stats=True)\n",
              "    (relu): ReLU()\n",
              "    (conv2): Conv2d(128, 128, kernel_size=(3, 3), stride=(1, 1), padding=(1, 1), bias=False)\n",
              "    (conv22): Conv2d(128, 128, kernel_size=(1, 1), stride=(1, 1), bias=False)\n",
              "    (bn2): BatchNorm2d(128, eps=1e-05, momentum=0.1, affine=True, track_running_stats=True)\n",
              "    (conv1x1down): ConvTranspose2d(256, 128, kernel_size=(3, 3), stride=(1, 1), padding=(1, 1), bias=False)\n",
              "  )\n",
              "  (blck8): UpSize(\n",
              "    (conv1): Conv2d(64, 64, kernel_size=(3, 3), stride=(1, 1), padding=(1, 1), bias=False)\n",
              "    (conv12): Conv2d(64, 64, kernel_size=(1, 1), stride=(1, 1), bias=False)\n",
              "    (bn1): BatchNorm2d(64, eps=1e-05, momentum=0.1, affine=True, track_running_stats=True)\n",
              "    (relu): ReLU()\n",
              "    (conv2): Conv2d(64, 64, kernel_size=(3, 3), stride=(1, 1), padding=(1, 1), bias=False)\n",
              "    (conv22): Conv2d(64, 64, kernel_size=(1, 1), stride=(1, 1), bias=False)\n",
              "    (bn2): BatchNorm2d(64, eps=1e-05, momentum=0.1, affine=True, track_running_stats=True)\n",
              "    (conv1x1down): ConvTranspose2d(128, 64, kernel_size=(3, 3), stride=(1, 1), padding=(1, 1), bias=False)\n",
              "  )\n",
              "  (convLast): Sequential(\n",
              "    (0): Conv2d(64, 1, kernel_size=(1, 1), stride=(1, 1), bias=False)\n",
              "  )\n",
              ")"
            ]
          },
          "metadata": {
            "tags": []
          },
          "execution_count": 17
        }
      ]
    },
    {
      "cell_type": "markdown",
      "metadata": {
        "id": "4YmPd9c4dcjo",
        "colab_type": "text"
      },
      "source": [
        "### Defining Freeze class. We are using transfer learning & hence this class will be used to freeze the layers as required."
      ]
    },
    {
      "cell_type": "code",
      "metadata": {
        "id": "KJcwSgduXEGW",
        "colab_type": "code",
        "colab": {}
      },
      "source": [
        "freezer = Freeze.Freezer()"
      ],
      "execution_count": 0,
      "outputs": []
    },
    {
      "cell_type": "code",
      "metadata": {
        "id": "3h8IRA53oJGB",
        "colab_type": "code",
        "colab": {}
      },
      "source": [
        "for name, module in model.named_modules():\n",
        "    print('name:',name)"
      ],
      "execution_count": 0,
      "outputs": []
    },
    {
      "cell_type": "markdown",
      "metadata": {
        "id": "m6Kx5hTxdlEF",
        "colab_type": "text"
      },
      "source": [
        "### Defining Loss Criterion & creating scheduler"
      ]
    },
    {
      "cell_type": "code",
      "metadata": {
        "id": "FrKfOUuJXGPA",
        "colab_type": "code",
        "colab": {}
      },
      "source": [
        "criterion1  = nn.BCEWithLogitsLoss()\n",
        "#criterion1  = DiceLoss()\n",
        "kernel_size = 3\n",
        "#criterion1  = SSIM(kernel_size, reduction = 'mean')\n",
        "criterion2  = SSIM(kernel_size, reduction = 'mean')\n",
        "\n",
        "optim = torch.optim.SGD(model.parameters(), lr=0.01, momentum = 0.9, weight_decay = 1e-5)\n",
        "\n",
        "from torch.optim.lr_scheduler import StepLR\n",
        "scheduler = StepLR(optim, step_size=2, gamma=0.1)"
      ],
      "execution_count": 0,
      "outputs": []
    },
    {
      "cell_type": "markdown",
      "metadata": {
        "id": "09RWnhbDdpn-",
        "colab_type": "text"
      },
      "source": [
        "### Defining train & test loss classes"
      ]
    },
    {
      "cell_type": "code",
      "metadata": {
        "id": "-GeO6iIrXH-b",
        "colab_type": "code",
        "colab": {}
      },
      "source": [
        "train_loss_fn = Train3.Training_loss1()\n",
        "test_loss_fn  = Test3.Testing_loss1()"
      ],
      "execution_count": 0,
      "outputs": []
    },
    {
      "cell_type": "code",
      "metadata": {
        "id": "kXxeBacqT-DU",
        "colab_type": "code",
        "colab": {}
      },
      "source": [
        "#train_loss_fn = Training_loss3()\n",
        "#test_loss_fn  = Testing_loss3()"
      ],
      "execution_count": 0,
      "outputs": []
    },
    {
      "cell_type": "markdown",
      "metadata": {
        "id": "BJRO8Y9XduZ-",
        "colab_type": "text"
      },
      "source": [
        "### Reloading model from last saved weights that are present in gdrive"
      ]
    },
    {
      "cell_type": "code",
      "metadata": {
        "id": "mS_Q6nHNXKHF",
        "colab_type": "code",
        "outputId": "a4ac3aa4-10c6-4e93-c089-758c68674352",
        "colab": {
          "base_uri": "https://localhost:8080/",
          "height": 35
        }
      },
      "source": [
        "path = f'/content/gdrive/My Drive/FG_Depth_Prediction_0531V19A.pt'\n",
        "model.load_state_dict(torch.load(path))"
      ],
      "execution_count": 0,
      "outputs": [
        {
          "output_type": "execute_result",
          "data": {
            "text/plain": [
              "<All keys matched successfully>"
            ]
          },
          "metadata": {
            "tags": []
          },
          "execution_count": 21
        }
      ]
    },
    {
      "cell_type": "code",
      "metadata": {
        "id": "B_46egmcXMM5",
        "colab_type": "code",
        "colab": {}
      },
      "source": [
        "path_name       = '/content/gdrive/My Drive/plots_0605_V20C/'\n",
        "path_model_save = f'/content/gdrive/My Drive/FG_Depth_Prediction_0605V20C.pt'\n",
        "\n",
        "file_name  = 'train_log.txt'\n",
        "log_file    = open(f'{path_name}{file_name}','w')\n",
        "log_file.close()\n",
        "file_name  = 'test_log.txt'\n",
        "log_file   = open(f'{path_name}{file_name}','w') \n",
        "log_file.close()    "
      ],
      "execution_count": 0,
      "outputs": []
    },
    {
      "cell_type": "markdown",
      "metadata": {
        "id": "TulgUgKldzng",
        "colab_type": "text"
      },
      "source": [
        "### Train & Test the model"
      ]
    },
    {
      "cell_type": "code",
      "metadata": {
        "id": "js5UjKCIXVqu",
        "colab_type": "code",
        "outputId": "ab2c7695-d7d4-486c-a6e5-d9d5420e3190",
        "colab": {
          "base_uri": "https://localhost:8080/",
          "height": 1000
        }
      },
      "source": [
        "train_loss_all, train_mask_loss_all, train_depth_loss_all, train_mask_iou_all, train_depth_iou_all = [], [], [], [], []\n",
        "test_loss_all,  test_mask_loss_all,  test_depth_loss_all,  test_mask_iou_all,  test_depth_iou_all  = [], [], [], [], []\n",
        "\n",
        "for epoch in range(1,5):\n",
        "  train_loss, train_mask_loss, train_depth_loss, train_mask_iou, train_depth_iou = 0, 0, 0, 0, 0\n",
        "  test_loss,  test_mask_loss,  test_depth_loss,  test_mask_iou,  test_depth_iou  = 0, 0, 0, 0, 0\n",
        "  if epoch < 2:\n",
        "     batch_size, loader = bs_small, train_dl_mini_1\n",
        "     freezer.freeze_mask_layers(model)\n",
        "  elif epoch < 3:\n",
        "     batch_size, loader  = bs_small, train_dl_mini_2\n",
        "     freezer.freeze_depth_layers(model)   \n",
        "  elif epoch < 4:\n",
        "     batch_size, loader = bs_small,  train_dl_mini_1\n",
        "     freezer.freeze_mask_layers(model)\n",
        "  elif epoch < 5:\n",
        "     batch_size, loader  = bs_small, train_dl_mini_2\n",
        "     freezer.freeze_depth_layers(model)   \n",
        "\n",
        "  train_loss, train_mask_loss, train_depth_loss, train_mask_iou, train_depth_iou = train_loss_fn.train_loss_calc( \\\n",
        "                                                           model, model.device, loader,\\\n",
        "                                                           optim, epoch, criterion1, criterion2, batch_size, path_name, \\\n",
        "                                                           path_model_save, scheduler, model_save, img_save)\n",
        "  batch_size, loader = bs_display, test_dl_display\n",
        "  test_loss, test_mask_loss, test_depth_loss, test_mask_iou, test_depth_iou = test_loss_fn.test_loss_calc(             \\\n",
        "                                                         model, model.device, loader, optim,                           \\\n",
        "                                                         epoch, criterion1, criterion2, batch_size, path_name,         \\\n",
        "                                                         scheduler, img_save)\n",
        "  scheduler.step()\n",
        "\n",
        "  train_loss_all.append(train_loss.item()), train_mask_loss_all.append(train_mask_loss.item()), train_depth_loss_all.append(train_depth_loss.item())\n",
        "  test_loss_all.append(test_loss.item()),   test_mask_loss_all.append(test_mask_loss.item()),   test_depth_loss_all.append(test_depth_loss.item())\n",
        "  train_mask_iou_all.append(train_mask_iou), train_depth_iou_all.append(train_depth_iou)\n",
        "  test_mask_iou_all.append(test_mask_iou),   test_depth_iou_all.append(test_depth_iou)\n",
        "\n",
        "  gc.collect()"
      ],
      "execution_count": 0,
      "outputs": [
        {
          "output_type": "stream",
          "text": [
            "\r  0%|          | 0/834 [00:00<?, ?it/s]"
          ],
          "name": "stderr"
        },
        {
          "output_type": "stream",
          "text": [
            "Freezing Mask Layers\n"
          ],
          "name": "stdout"
        },
        {
          "output_type": "stream",
          "text": [
            "\rTR1|0|0.270|0.215|0.595|0.241:   0%|          | 0/834 [00:01<?, ?it/s]Clipping input data to the valid range for imshow with RGB data ([0..1] for floats or [0..255] for integers).\n"
          ],
          "name": "stderr"
        },
        {
          "output_type": "stream",
          "text": [
            "Train Epoch:1 Batch_ID: 0 [0/80000 (0%)]\tLoss:0.75589 Mask_Loss:0.27024 Dpth_Loss:0.21542 Mask_IOU:0.59531 Dpth_IOU: 0.24098\n"
          ],
          "name": "stdout"
        },
        {
          "output_type": "stream",
          "text": [
            "\rTR1|0|0.270|0.215|0.595|0.241:   0%|          | 1/834 [00:02<40:05,  2.89s/it]"
          ],
          "name": "stderr"
        },
        {
          "output_type": "stream",
          "text": [
            "MODEL SAVED: /content/gdrive/My Drive/FG_Depth_Prediction_0605V20C.pt Epoch & Batch-ID: 1 0\n"
          ],
          "name": "stdout"
        },
        {
          "output_type": "stream",
          "text": [
            "TR1|500|0.273|0.107|0.591|0.622:  60%|██████    | 501/834 [08:38<06:05,  1.10s/it]"
          ],
          "name": "stderr"
        },
        {
          "output_type": "stream",
          "text": [
            "MODEL SAVED: /content/gdrive/My Drive/FG_Depth_Prediction_0605V20C.pt Epoch & Batch-ID: 1 500\n"
          ],
          "name": "stdout"
        },
        {
          "output_type": "stream",
          "text": [
            "TR1|832|0.279|0.105|0.586|0.656: 100%|█████████▉| 832/834 [14:17<00:01,  1.03it/s]Clipping input data to the valid range for imshow with RGB data ([0..1] for floats or [0..255] for integers).\n"
          ],
          "name": "stderr"
        },
        {
          "output_type": "stream",
          "text": [
            "Train Epoch:1 Batch_ID: 832 [79872/80000 (100%)]\tLoss:0.66260 Mask_Loss:0.27875 Dpth_Loss:0.10509 Mask_IOU:0.58574 Dpth_IOU: 0.65582\n"
          ],
          "name": "stdout"
        },
        {
          "output_type": "stream",
          "text": [
            "TR1|833|0.262|0.118|0.630|0.539: 100%|██████████| 834/834 [14:19<00:00,  1.03s/it]\n",
            "TS1|0|-3.735|0.228|0.823|0.760:   0%|          | 0/5000 [00:00<?, ?it/s]Clipping input data to the valid range for imshow with RGB data ([0..1] for floats or [0..255] for integers).\n"
          ],
          "name": "stderr"
        },
        {
          "output_type": "stream",
          "text": [
            "Test Epoch: 1 [0/40000 (0%)]\tTest_Loss: -7.242751 Mask_Loss: -3.73525 Dpth_Loss: 0.22776 Mask_IOU: 0.82313 Dpth_IOU: 0.75994\n"
          ],
          "name": "stdout"
        },
        {
          "output_type": "stream",
          "text": [
            "TS1|1500|-3.169|0.252|0.721|0.586:  30%|██▉       | 1499/5000 [01:36<03:34, 16.30it/s]Clipping input data to the valid range for imshow with RGB data ([0..1] for floats or [0..255] for integers).\n"
          ],
          "name": "stderr"
        },
        {
          "output_type": "stream",
          "text": [
            "Test Epoch: 1 [6000/40000 (30%)]\tTest_Loss: -6.087097 Mask_Loss: -3.16940 Dpth_Loss: 0.25170 Mask_IOU: 0.72095 Dpth_IOU: 0.58593\n"
          ],
          "name": "stdout"
        },
        {
          "output_type": "stream",
          "text": [
            "Clipping input data to the valid range for imshow with RGB data ([0..1] for floats or [0..255] for integers).\n",
            "TS1|3000|-2.925|0.208|0.711|0.770:  60%|█████▉    | 2999/5000 [03:15<02:10, 15.35it/s]Clipping input data to the valid range for imshow with RGB data ([0..1] for floats or [0..255] for integers).\n"
          ],
          "name": "stderr"
        },
        {
          "output_type": "stream",
          "text": [
            "Test Epoch: 1 [12000/40000 (60%)]\tTest_Loss: -5.642524 Mask_Loss: -2.92529 Dpth_Loss: 0.20806 Mask_IOU: 0.71115 Dpth_IOU: 0.76967\n"
          ],
          "name": "stdout"
        },
        {
          "output_type": "stream",
          "text": [
            "TS1|4500|-2.736|0.230|0.667|0.794:  90%|████████▉ | 4499/5000 [04:54<00:31, 15.88it/s]Clipping input data to the valid range for imshow with RGB data ([0..1] for floats or [0..255] for integers).\n"
          ],
          "name": "stderr"
        },
        {
          "output_type": "stream",
          "text": [
            "Test Epoch: 1 [18000/40000 (90%)]\tTest_Loss: -5.242137 Mask_Loss: -2.73599 Dpth_Loss: 0.22983 Mask_IOU: 0.66656 Dpth_IOU: 0.79390\n"
          ],
          "name": "stdout"
        },
        {
          "output_type": "stream",
          "text": [
            "Clipping input data to the valid range for imshow with RGB data ([0..1] for floats or [0..255] for integers).\n",
            "TS1|4999|-2.811|0.227|0.754|0.727: 100%|█████████▉| 4999/5000 [05:27<00:00, 16.09it/s]Clipping input data to the valid range for imshow with RGB data ([0..1] for floats or [0..255] for integers).\n"
          ],
          "name": "stderr"
        },
        {
          "output_type": "stream",
          "text": [
            "Test Epoch: 1 [19996/40000 (100%)]\tTest_Loss: -5.393716 Mask_Loss: -2.81057 Dpth_Loss: 0.22743 Mask_IOU: 0.75445 Dpth_IOU: 0.72667\n"
          ],
          "name": "stdout"
        },
        {
          "output_type": "stream",
          "text": [
            "Clipping input data to the valid range for imshow with RGB data ([0..1] for floats or [0..255] for integers).\n",
            "TS1|4999|-2.811|0.227|0.754|0.727: 100%|██████████| 5000/5000 [05:28<00:00, 15.23it/s]\n",
            "  0%|          | 0/834 [00:00<?, ?it/s]"
          ],
          "name": "stderr"
        },
        {
          "output_type": "stream",
          "text": [
            "Freezing Depth Layers\n"
          ],
          "name": "stdout"
        },
        {
          "output_type": "stream",
          "text": [
            "\rTR2|0|0.271|0.107|0.602|0.613:   0%|          | 0/834 [00:01<?, ?it/s]Clipping input data to the valid range for imshow with RGB data ([0..1] for floats or [0..255] for integers).\n"
          ],
          "name": "stderr"
        },
        {
          "output_type": "stream",
          "text": [
            "Train Epoch:2 Batch_ID: 0 [0/80000 (0%)]\tLoss:0.64810 Mask_Loss:0.27068 Dpth_Loss:0.10674 Mask_IOU:0.60177 Dpth_IOU: 0.61277\n"
          ],
          "name": "stdout"
        },
        {
          "output_type": "stream",
          "text": [
            "\rTR2|0|0.271|0.107|0.602|0.613:   0%|          | 1/834 [00:02<40:53,  2.95s/it]"
          ],
          "name": "stderr"
        },
        {
          "output_type": "stream",
          "text": [
            "MODEL SAVED: /content/gdrive/My Drive/FG_Depth_Prediction_0605V20C.pt Epoch & Batch-ID: 2 0\n"
          ],
          "name": "stdout"
        },
        {
          "output_type": "stream",
          "text": [
            "TR2|500|0.168|0.130|0.704|0.581:  60%|██████    | 501/834 [09:14<06:29,  1.17s/it]"
          ],
          "name": "stderr"
        },
        {
          "output_type": "stream",
          "text": [
            "MODEL SAVED: /content/gdrive/My Drive/FG_Depth_Prediction_0605V20C.pt Epoch & Batch-ID: 2 500\n"
          ],
          "name": "stdout"
        },
        {
          "output_type": "stream",
          "text": [
            "TR2|832|0.144|0.127|0.737|0.573: 100%|█████████▉| 832/834 [15:24<00:02,  1.08s/it]Clipping input data to the valid range for imshow with RGB data ([0..1] for floats or [0..255] for integers).\n"
          ],
          "name": "stderr"
        },
        {
          "output_type": "stream",
          "text": [
            "Train Epoch:2 Batch_ID: 832 [79872/80000 (100%)]\tLoss:0.41584 Mask_Loss:0.14425 Dpth_Loss:0.12733 Mask_IOU:0.73744 Dpth_IOU: 0.57296\n"
          ],
          "name": "stdout"
        },
        {
          "output_type": "stream",
          "text": [
            "TR2|833|0.129|0.134|0.745|0.482: 100%|██████████| 834/834 [15:26<00:00,  1.11s/it]\n",
            "TS2|0|-6.542|0.278|0.796|0.578:   0%|          | 0/5000 [00:00<?, ?it/s]Clipping input data to the valid range for imshow with RGB data ([0..1] for floats or [0..255] for integers).\n"
          ],
          "name": "stderr"
        },
        {
          "output_type": "stream",
          "text": [
            "Test Epoch: 2 [0/40000 (0%)]\tTest_Loss: -12.806504 Mask_Loss: -6.54240 Dpth_Loss: 0.27829 Mask_IOU: 0.79578 Dpth_IOU: 0.57781\n"
          ],
          "name": "stdout"
        },
        {
          "output_type": "stream",
          "text": [
            "TS2|1500|-5.971|0.257|0.825|0.642:  30%|██▉       | 1499/5000 [01:35<03:47, 15.36it/s]Clipping input data to the valid range for imshow with RGB data ([0..1] for floats or [0..255] for integers).\n"
          ],
          "name": "stderr"
        },
        {
          "output_type": "stream",
          "text": [
            "Test Epoch: 2 [6000/40000 (30%)]\tTest_Loss: -11.684760 Mask_Loss: -5.97110 Dpth_Loss: 0.25745 Mask_IOU: 0.82483 Dpth_IOU: 0.64210\n"
          ],
          "name": "stdout"
        },
        {
          "output_type": "stream",
          "text": [
            "Clipping input data to the valid range for imshow with RGB data ([0..1] for floats or [0..255] for integers).\n",
            "TS2|3000|-6.502|0.251|0.758|0.647:  60%|█████▉    | 2999/5000 [03:18<02:18, 14.46it/s]Clipping input data to the valid range for imshow with RGB data ([0..1] for floats or [0..255] for integers).\n"
          ],
          "name": "stderr"
        },
        {
          "output_type": "stream",
          "text": [
            "Test Epoch: 2 [12000/40000 (60%)]\tTest_Loss: -12.753719 Mask_Loss: -6.50224 Dpth_Loss: 0.25076 Mask_IOU: 0.75769 Dpth_IOU: 0.64727\n"
          ],
          "name": "stdout"
        },
        {
          "output_type": "stream",
          "text": [
            "Clipping input data to the valid range for imshow with RGB data ([0..1] for floats or [0..255] for integers).\n",
            "TS2|4500|-8.339|0.243|0.872|0.676:  90%|████████▉ | 4499/5000 [05:02<00:34, 14.54it/s]Clipping input data to the valid range for imshow with RGB data ([0..1] for floats or [0..255] for integers).\n"
          ],
          "name": "stderr"
        },
        {
          "output_type": "stream",
          "text": [
            "Test Epoch: 2 [18000/40000 (90%)]\tTest_Loss: -16.435389 Mask_Loss: -8.33934 Dpth_Loss: 0.24329 Mask_IOU: 0.87228 Dpth_IOU: 0.67593\n"
          ],
          "name": "stdout"
        },
        {
          "output_type": "stream",
          "text": [
            "Clipping input data to the valid range for imshow with RGB data ([0..1] for floats or [0..255] for integers).\n",
            "TS2|4999|-6.226|0.273|0.790|0.491: 100%|█████████▉| 4999/5000 [05:37<00:00, 14.25it/s]Clipping input data to the valid range for imshow with RGB data ([0..1] for floats or [0..255] for integers).\n"
          ],
          "name": "stderr"
        },
        {
          "output_type": "stream",
          "text": [
            "Test Epoch: 2 [19996/40000 (100%)]\tTest_Loss: -12.179285 Mask_Loss: -6.22606 Dpth_Loss: 0.27284 Mask_IOU: 0.78990 Dpth_IOU: 0.49145\n"
          ],
          "name": "stdout"
        },
        {
          "output_type": "stream",
          "text": [
            "Clipping input data to the valid range for imshow with RGB data ([0..1] for floats or [0..255] for integers).\n",
            "TS2|4999|-6.226|0.273|0.790|0.491: 100%|██████████| 5000/5000 [05:38<00:00, 14.79it/s]\n",
            "  0%|          | 0/834 [00:00<?, ?it/s]"
          ],
          "name": "stderr"
        },
        {
          "output_type": "stream",
          "text": [
            "Freezing Mask Layers\n"
          ],
          "name": "stdout"
        },
        {
          "output_type": "stream",
          "text": [
            "\rTR3|0|0.144|0.123|0.737|0.606:   0%|          | 0/834 [00:01<?, ?it/s]Clipping input data to the valid range for imshow with RGB data ([0..1] for floats or [0..255] for integers).\n"
          ],
          "name": "stderr"
        },
        {
          "output_type": "stream",
          "text": [
            "Train Epoch:3 Batch_ID: 0 [0/80000 (0%)]\tLoss:0.41140 Mask_Loss:0.14423 Dpth_Loss:0.12293 Mask_IOU:0.73742 Dpth_IOU: 0.60639\n"
          ],
          "name": "stdout"
        },
        {
          "output_type": "stream",
          "text": [
            "\rTR3|0|0.144|0.123|0.737|0.606:   0%|          | 1/834 [00:02<40:36,  2.92s/it]"
          ],
          "name": "stderr"
        },
        {
          "output_type": "stream",
          "text": [
            "MODEL SAVED: /content/gdrive/My Drive/FG_Depth_Prediction_0605V20C.pt Epoch & Batch-ID: 3 0\n"
          ],
          "name": "stdout"
        },
        {
          "output_type": "stream",
          "text": [
            "TR3|500|0.148|0.101|0.742|0.652:  60%|██████    | 501/834 [08:40<06:09,  1.11s/it]"
          ],
          "name": "stderr"
        },
        {
          "output_type": "stream",
          "text": [
            "MODEL SAVED: /content/gdrive/My Drive/FG_Depth_Prediction_0605V20C.pt Epoch & Batch-ID: 3 500\n"
          ],
          "name": "stdout"
        },
        {
          "output_type": "stream",
          "text": [
            "TR3|832|0.145|0.105|0.749|0.646: 100%|█████████▉| 832/834 [14:25<00:02,  1.04s/it]Clipping input data to the valid range for imshow with RGB data ([0..1] for floats or [0..255] for integers).\n"
          ],
          "name": "stderr"
        },
        {
          "output_type": "stream",
          "text": [
            "Train Epoch:3 Batch_ID: 832 [79872/80000 (100%)]\tLoss:0.39543 Mask_Loss:0.14542 Dpth_Loss:0.10459 Mask_IOU:0.74862 Dpth_IOU: 0.64648\n"
          ],
          "name": "stdout"
        },
        {
          "output_type": "stream",
          "text": [
            "TR3|833|0.156|0.108|0.722|0.601: 100%|██████████| 834/834 [14:27<00:00,  1.04s/it]\n",
            "TS3|0|-7.052|0.219|0.762|0.740:   0%|          | 0/5000 [00:00<?, ?it/s]Clipping input data to the valid range for imshow with RGB data ([0..1] for floats or [0..255] for integers).\n"
          ],
          "name": "stderr"
        },
        {
          "output_type": "stream",
          "text": [
            "Test Epoch: 3 [0/40000 (0%)]\tTest_Loss: -13.885688 Mask_Loss: -7.05230 Dpth_Loss: 0.21891 Mask_IOU: 0.76215 Dpth_IOU: 0.74005\n"
          ],
          "name": "stdout"
        },
        {
          "output_type": "stream",
          "text": [
            "TS3|1500|-8.039|0.214|0.786|0.727:  30%|██▉       | 1498/5000 [01:10<02:44, 21.29it/s]Clipping input data to the valid range for imshow with RGB data ([0..1] for floats or [0..255] for integers).\n"
          ],
          "name": "stderr"
        },
        {
          "output_type": "stream",
          "text": [
            "Test Epoch: 3 [6000/40000 (30%)]\tTest_Loss: -15.864146 Mask_Loss: -8.03928 Dpth_Loss: 0.21441 Mask_IOU: 0.78580 Dpth_IOU: 0.72746\n"
          ],
          "name": "stdout"
        },
        {
          "output_type": "stream",
          "text": [
            "Clipping input data to the valid range for imshow with RGB data ([0..1] for floats or [0..255] for integers).\n",
            "TS3|3000|-9.257|0.228|0.799|0.719:  60%|█████▉    | 2998/5000 [02:21<01:32, 21.57it/s]Clipping input data to the valid range for imshow with RGB data ([0..1] for floats or [0..255] for integers).\n"
          ],
          "name": "stderr"
        },
        {
          "output_type": "stream",
          "text": [
            "Test Epoch: 3 [12000/40000 (60%)]\tTest_Loss: -18.286890 Mask_Loss: -9.25747 Dpth_Loss: 0.22805 Mask_IOU: 0.79853 Dpth_IOU: 0.71865\n"
          ],
          "name": "stdout"
        },
        {
          "output_type": "stream",
          "text": [
            "Clipping input data to the valid range for imshow with RGB data ([0..1] for floats or [0..255] for integers).\n",
            "TS3|4500|-8.214|0.256|0.787|0.515:  90%|████████▉ | 4498/5000 [03:31<00:23, 21.41it/s]Clipping input data to the valid range for imshow with RGB data ([0..1] for floats or [0..255] for integers).\n"
          ],
          "name": "stderr"
        },
        {
          "output_type": "stream",
          "text": [
            "Test Epoch: 3 [18000/40000 (90%)]\tTest_Loss: -16.171619 Mask_Loss: -8.21374 Dpth_Loss: 0.25586 Mask_IOU: 0.78692 Dpth_IOU: 0.51506\n"
          ],
          "name": "stdout"
        },
        {
          "output_type": "stream",
          "text": [
            "Clipping input data to the valid range for imshow with RGB data ([0..1] for floats or [0..255] for integers).\n",
            "TS3|4999|-7.175|0.241|0.801|0.630: 100%|█████████▉| 4999/5000 [03:55<00:00, 21.57it/s]Clipping input data to the valid range for imshow with RGB data ([0..1] for floats or [0..255] for integers).\n"
          ],
          "name": "stderr"
        },
        {
          "output_type": "stream",
          "text": [
            "Test Epoch: 3 [19996/40000 (100%)]\tTest_Loss: -14.108356 Mask_Loss: -7.17485 Dpth_Loss: 0.24134 Mask_IOU: 0.80136 Dpth_IOU: 0.63026\n"
          ],
          "name": "stdout"
        },
        {
          "output_type": "stream",
          "text": [
            "Clipping input data to the valid range for imshow with RGB data ([0..1] for floats or [0..255] for integers).\n",
            "TS3|4999|-7.175|0.241|0.801|0.630: 100%|██████████| 5000/5000 [03:56<00:00, 21.16it/s]\n",
            "  0%|          | 0/834 [00:00<?, ?it/s]"
          ],
          "name": "stderr"
        },
        {
          "output_type": "stream",
          "text": [
            "Freezing Depth Layers\n"
          ],
          "name": "stdout"
        },
        {
          "output_type": "stream",
          "text": [
            "\rTR4|0|0.159|0.106|0.719|0.627:   0%|          | 0/834 [00:01<?, ?it/s]Clipping input data to the valid range for imshow with RGB data ([0..1] for floats or [0..255] for integers).\n"
          ],
          "name": "stderr"
        },
        {
          "output_type": "stream",
          "text": [
            "Train Epoch:4 Batch_ID: 0 [0/80000 (0%)]\tLoss:0.42384 Mask_Loss:0.15874 Dpth_Loss:0.10635 Mask_IOU:0.71927 Dpth_IOU: 0.62712\n"
          ],
          "name": "stdout"
        },
        {
          "output_type": "stream",
          "text": [
            "\rTR4|0|0.159|0.106|0.719|0.627:   0%|          | 1/834 [00:02<40:24,  2.91s/it]"
          ],
          "name": "stderr"
        },
        {
          "output_type": "stream",
          "text": [
            "MODEL SAVED: /content/gdrive/My Drive/FG_Depth_Prediction_0605V20C.pt Epoch & Batch-ID: 4 0\n"
          ],
          "name": "stdout"
        },
        {
          "output_type": "stream",
          "text": [
            "TR4|500|0.146|0.104|0.715|0.635:  60%|██████    | 501/834 [09:00<06:18,  1.14s/it]"
          ],
          "name": "stderr"
        },
        {
          "output_type": "stream",
          "text": [
            "MODEL SAVED: /content/gdrive/My Drive/FG_Depth_Prediction_0605V20C.pt Epoch & Batch-ID: 4 500\n"
          ],
          "name": "stdout"
        },
        {
          "output_type": "stream",
          "text": [
            "TR4|832|0.154|0.104|0.731|0.634: 100%|█████████▉| 832/834 [14:55<00:02,  1.08s/it]Clipping input data to the valid range for imshow with RGB data ([0..1] for floats or [0..255] for integers).\n"
          ],
          "name": "stderr"
        },
        {
          "output_type": "stream",
          "text": [
            "Train Epoch:4 Batch_ID: 832 [79872/80000 (100%)]\tLoss:0.41122 Mask_Loss:0.15368 Dpth_Loss:0.10387 Mask_IOU:0.73052 Dpth_IOU: 0.63407\n"
          ],
          "name": "stdout"
        },
        {
          "output_type": "stream",
          "text": [
            "TR4|833|0.181|0.104|0.692|0.653: 100%|██████████| 834/834 [14:57<00:00,  1.08s/it]\n",
            "TS4|0|-9.501|0.209|0.806|0.765:   0%|          | 0/5000 [00:00<?, ?it/s]Clipping input data to the valid range for imshow with RGB data ([0..1] for floats or [0..255] for integers).\n"
          ],
          "name": "stderr"
        },
        {
          "output_type": "stream",
          "text": [
            "Test Epoch: 4 [0/40000 (0%)]\tTest_Loss: -18.794054 Mask_Loss: -9.50143 Dpth_Loss: 0.20881 Mask_IOU: 0.80637 Dpth_IOU: 0.76474\n"
          ],
          "name": "stdout"
        },
        {
          "output_type": "stream",
          "text": [
            "TS4|1500|-8.139|0.219|0.814|0.731:  30%|██▉       | 1498/5000 [01:10<02:42, 21.58it/s]Clipping input data to the valid range for imshow with RGB data ([0..1] for floats or [0..255] for integers).\n"
          ],
          "name": "stderr"
        },
        {
          "output_type": "stream",
          "text": [
            "Test Epoch: 4 [6000/40000 (30%)]\tTest_Loss: -16.057529 Mask_Loss: -8.13851 Dpth_Loss: 0.21949 Mask_IOU: 0.81374 Dpth_IOU: 0.73092\n"
          ],
          "name": "stdout"
        },
        {
          "output_type": "stream",
          "text": [
            "Clipping input data to the valid range for imshow with RGB data ([0..1] for floats or [0..255] for integers).\n",
            "TS4|3000|-8.564|0.208|0.847|0.789:  60%|██████    | 3000/5000 [02:21<01:32, 21.57it/s]Clipping input data to the valid range for imshow with RGB data ([0..1] for floats or [0..255] for integers).\n"
          ],
          "name": "stderr"
        },
        {
          "output_type": "stream",
          "text": [
            "Test Epoch: 4 [12000/40000 (60%)]\tTest_Loss: -16.919384 Mask_Loss: -8.56375 Dpth_Loss: 0.20812 Mask_IOU: 0.84703 Dpth_IOU: 0.78924\n"
          ],
          "name": "stdout"
        },
        {
          "output_type": "stream",
          "text": [
            "TS4|4500|-8.233|0.220|0.816|0.765:  90%|████████▉ | 4499/5000 [03:32<00:23, 21.71it/s]Clipping input data to the valid range for imshow with RGB data ([0..1] for floats or [0..255] for integers).\n"
          ],
          "name": "stderr"
        },
        {
          "output_type": "stream",
          "text": [
            "Test Epoch: 4 [18000/40000 (90%)]\tTest_Loss: -16.246273 Mask_Loss: -8.23306 Dpth_Loss: 0.21985 Mask_IOU: 0.81590 Dpth_IOU: 0.76524\n"
          ],
          "name": "stdout"
        },
        {
          "output_type": "stream",
          "text": [
            "Clipping input data to the valid range for imshow with RGB data ([0..1] for floats or [0..255] for integers).\n",
            "TS4|4999|-6.629|0.243|0.771|0.658: 100%|█████████▉| 4997/5000 [03:56<00:00, 21.43it/s]Clipping input data to the valid range for imshow with RGB data ([0..1] for floats or [0..255] for integers).\n"
          ],
          "name": "stderr"
        },
        {
          "output_type": "stream",
          "text": [
            "Test Epoch: 4 [19996/40000 (100%)]\tTest_Loss: -13.014671 Mask_Loss: -6.62892 Dpth_Loss: 0.24318 Mask_IOU: 0.77065 Dpth_IOU: 0.65823\n"
          ],
          "name": "stdout"
        },
        {
          "output_type": "stream",
          "text": [
            "Clipping input data to the valid range for imshow with RGB data ([0..1] for floats or [0..255] for integers).\n",
            "TS4|4999|-6.629|0.243|0.771|0.658: 100%|██████████| 5000/5000 [03:56<00:00, 21.13it/s]\n"
          ],
          "name": "stderr"
        }
      ]
    },
    {
      "cell_type": "code",
      "metadata": {
        "id": "9P1B90boXex8",
        "colab_type": "code",
        "outputId": "22b10b3b-7a25-4437-e54c-79b8af40b794",
        "colab": {
          "base_uri": "https://localhost:8080/",
          "height": 191
        }
      },
      "source": [
        "print('train_loss_all:',train_loss_all)\n",
        "print('train_mask_loss_all:',train_mask_loss_all)\n",
        "print('train_depth_loss_all:',train_depth_loss_all)\n",
        "print('train_mask_iou_all:',train_mask_iou_all)\n",
        "print('train_depth_iou_all:',train_depth_iou_all)\n",
        "print('test_loss_all:',test_loss_all)\n",
        "print('test_mask_loss_all:',test_mask_loss_all)\n",
        "print('test_depth_loss_all:',test_depth_loss_all)\n",
        "print('test_mask_iou_all:',test_mask_iou_all)\n",
        "print('test_depth_iou_all:',test_depth_iou_all)"
      ],
      "execution_count": 0,
      "outputs": [
        {
          "output_type": "stream",
          "text": [
            "train_loss_all: [0.6535589694976807, 0.4582561254501343, 0.4131253957748413, 0.39150455594062805]\n",
            "train_mask_loss_all: [0.2690426707267761, 0.1649726927280426, 0.15408091247081757, 0.1439601480960846]\n",
            "train_depth_loss_all: [0.1154739111661911, 0.1283109486103058, 0.10496346652507782, 0.10358420759439468]\n",
            "train_mask_iou_all: [0.6042672059090832, 0.6849024082361541, 0.7220494412658383, 0.7273322005734145]\n",
            "train_depth_iou_all: [0.6180402486479656, 0.5816954630039802, 0.6392695248953414, 0.644802469229813]\n",
            "test_loss_all: [-5.646739482879639, -13.985770225524902, -16.01897430419922, -16.32783317565918]\n",
            "test_mask_loss_all: [-2.9364118576049805, -7.121550559997559, -8.120193481445312, -8.274039268493652]\n",
            "test_depth_loss_all: [0.22608764469623566, 0.2573508620262146, 0.22141310572624207, 0.2202330231666565]\n",
            "test_mask_iou_all: [0.7253588151939775, 0.7990142319234659, 0.8011845457585715, 0.8141669994973486]\n",
            "test_depth_iou_all: [0.709030348946844, 0.6469912778947512, 0.7013605246173366, 0.7102400121946383]\n"
          ],
          "name": "stdout"
        }
      ]
    },
    {
      "cell_type": "code",
      "metadata": {
        "id": "11S4MBY2Xh7F",
        "colab_type": "code",
        "outputId": "a78a68c8-881b-43d9-c4d9-41f0d72bdac7",
        "colab": {
          "base_uri": "https://localhost:8080/",
          "height": 224
        }
      },
      "source": [
        " \n",
        "figure = plt.figure(figsize=(25,5))\n",
        "\n",
        "plt.subplot(1,5,1)\n",
        "plt.title(\"Loss Plot\")\n",
        "plt.plot(train_loss_all,label='Train Loss')\n",
        "plt.plot(test_loss_all, label='Test Loss')\n",
        "plt.legend(loc=\"best\")\n",
        "\n",
        "plt.subplot(1,5,2)\n",
        "plt.title(\"Mask Losses\")\n",
        "plt.plot(train_mask_loss_all,label='Train Mask Loss')\n",
        "plt.plot(test_mask_loss_all, label='Test Mask Loss')\n",
        "plt.legend(loc=\"best\")\n",
        "\n",
        "plt.subplot(1,5,3)\n",
        "plt.title(\"Depth Losses\")\n",
        "plt.plot(train_depth_loss_all,label='Train Depth Loss')\n",
        "plt.plot(test_depth_loss_all, label='Test Depth Loss')\n",
        "plt.legend(loc=\"best\")\n",
        "\n",
        "plt.subplot(1,5,4)\n",
        "plt.title(\"Mask IOU\")\n",
        "plt.plot(train_mask_iou_all,label='Train Mask IOU')\n",
        "plt.plot(test_mask_iou_all, label='Test Mask IOU')\n",
        "plt.legend(loc=\"best\")\n",
        "\n",
        "plt.subplot(1,5,5)\n",
        "plt.title(\"Depth IOU\")\n",
        "plt.plot(train_depth_iou_all,label='Train Depth IOU')\n",
        "plt.plot(test_depth_iou_all, label='Test Depth IOU')\n",
        "plt.legend(loc=\"best\")"
      ],
      "execution_count": 0,
      "outputs": [
        {
          "output_type": "execute_result",
          "data": {
            "text/plain": [
              "<matplotlib.legend.Legend at 0x7f215342ef60>"
            ]
          },
          "metadata": {
            "tags": []
          },
          "execution_count": 25
        },
        {
          "output_type": "display_data",
          "data": {
            "image/png": "[encoded data removed]",
            "text/plain": [
              "<Figure size 1800x360 with 5 Axes>"
            ]
          },
          "metadata": {
            "tags": []
          }
        }
      ]
    },
    {
      "cell_type": "code",
      "metadata": {
        "id": "00a2tFeHVF2q",
        "colab_type": "code",
        "colab": {}
      },
      "source": [
        "test_ds_display = md1.Make1data(f1, content_list, 390000, t400k,  \n",
        "                  test_fg_bg_transforms['t_0'],test_bg_transforms['t_0'],mask_transforms['t_0'],depth_transforms['t_0'])\n",
        "test_dl_display = DataLoader(test_ds_display, batch_size = 8,  shuffle = True, pin_memory = True)\n",
        "batch_size, loader = 8, test_dl_display\n",
        "epoch = 11\n",
        "test_loss, test_mask_loss, test_depth_loss, test_mask_iou, test_depth_iou = test_loss_fn.test_loss_calc(             \\\n",
        "                                                         model, model.device, loader, optim,                           \\\n",
        "                                                         epoch, criterion1, criterion2, batch_size, path_name,         \\\n",
        "                                                         scheduler, img_save)"
      ],
      "execution_count": 0,
      "outputs": []
    },
    {
      "cell_type": "code",
      "metadata": {
        "id": "a9N3h4nEXsIs",
        "colab_type": "code",
        "colab": {}
      },
      "source": [
        ""
      ],
      "execution_count": 0,
      "outputs": []
    }
  ]
}